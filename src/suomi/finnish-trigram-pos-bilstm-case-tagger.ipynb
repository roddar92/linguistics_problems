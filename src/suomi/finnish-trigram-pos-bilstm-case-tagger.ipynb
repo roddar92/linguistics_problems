{
 "cells": [
  {
   "cell_type": "code",
   "execution_count": 1,
   "metadata": {
    "scrolled": true
   },
   "outputs": [],
   "source": [
    "import numpy as np\n",
    "import pandas as pd\n",
    "\n",
    "import seaborn as sns\n",
    "\n",
    "import itertools\n",
    "import pickle\n",
    "\n",
    "from nltk import ngrams\n",
    "\n",
    "from keras.utils import to_categorical\n",
    "from keras.preprocessing.text import Tokenizer\n",
    "from keras.preprocessing.sequence import pad_sequences\n",
    "from keras.models import Model\n",
    "from keras.layers import Dense, LSTM, Input, Embedding, Bidirectional, TimeDistributed, Flatten, SpatialDropout1D\n",
    "from keras.layers.merge import concatenate\n",
    "\n",
    "from sklearn.metrics import classification_report, confusion_matrix"
   ]
  },
  {
   "cell_type": "code",
   "execution_count": 2,
   "metadata": {},
   "outputs": [],
   "source": [
    "DATASET_PATH = '../../data/ftb1u-v1/sentences'"
   ]
  },
  {
   "cell_type": "code",
   "execution_count": 3,
   "metadata": {},
   "outputs": [],
   "source": [
    "bigram_size = 3"
   ]
  },
  {
   "cell_type": "markdown",
   "metadata": {},
   "source": [
    "### Load train data"
   ]
  },
  {
   "cell_type": "code",
   "execution_count": 4,
   "metadata": {},
   "outputs": [],
   "source": [
    "with open(f'{DATASET_PATH}/case_train_pos.pkl', 'rb') as f:\n",
    "    train = pickle.load(f)"
   ]
  },
  {
   "cell_type": "code",
   "execution_count": 5,
   "metadata": {
    "scrolled": true
   },
   "outputs": [
    {
     "data": {
      "text/plain": [
       "[[('Tammikuussa|NOUN', 'Ine'),\n",
       "  ('hän|PRON', 'Nom'),\n",
       "  ('muutti|VERB', 'Unk'),\n",
       "  ('Ilkan|PROPN', 'Gen'),\n",
       "  ('luokse|ADP', 'Unk'),\n",
       "  ('Saviselkään|PROPN', 'Ill'),\n",
       "  (',|PUNCT', 'Unk'),\n",
       "  ('kevättalvi|NOUN', 'Nom'),\n",
       "  ('koeteltiin|VERB', 'Unk'),\n",
       "  ('toinen|PRON', 'Nom'),\n",
       "  ('toisensa|DET', 'Gen'),\n",
       "  ('luonnetta|NOUN', 'Par'),\n",
       "  ('ja|CONJ', 'Unk'),\n",
       "  ('kesällä|NOUN', 'Ade'),\n",
       "  ('mentiin|VERB', 'Unk'),\n",
       "  ('naimisiin|ADV', 'Unk'),\n",
       "  ('.|PUNCT', 'Unk')],\n",
       " [('rakkaat|ADJ', 'Nom'),\n",
       "  ('isä|NOUN', 'Nom'),\n",
       "  ('ja|CONJ', 'Unk'),\n",
       "  ('äiti|NOUN', 'Nom'),\n",
       "  ('.|PUNCT', 'Unk')],\n",
       " [('Pitipä|VERB', 'Unk'), ('sattua|VERB', 'Lat'), ('.|PUNCT', 'Unk')],\n",
       " [('Nyt|ADV', 'Unk'), ('säästäminen|NOUN', 'Nom'), ('kannattaa|VERB', 'Unk')],\n",
       " [('Monet|PRON', 'Nom'),\n",
       "  ('eivät|VERB', 'Unk'),\n",
       "  ('vielä|ADV', 'Unk'),\n",
       "  ('ole|VERB', 'Unk'),\n",
       "  ('epäonnekseen|NOUN', 'Tra'),\n",
       "  ('saaneet|VERB', 'Nom'),\n",
       "  ('työpaikkaa|NOUN', 'Par'),\n",
       "  ('.|PUNCT', 'Unk')]]"
      ]
     },
     "execution_count": 5,
     "metadata": {},
     "output_type": "execute_result"
    }
   ],
   "source": [
    "train[:5]"
   ]
  },
  {
   "cell_type": "code",
   "execution_count": 6,
   "metadata": {},
   "outputs": [
    {
     "data": {
      "text/plain": [
       "72"
      ]
     },
     "execution_count": 6,
     "metadata": {},
     "output_type": "execute_result"
    }
   ],
   "source": [
    "MAX_LENGTH = len(max(train, key=len))\n",
    "MAX_LENGTH"
   ]
  },
  {
   "cell_type": "code",
   "execution_count": 7,
   "metadata": {},
   "outputs": [
    {
     "data": {
      "text/plain": [
       "47"
      ]
     },
     "execution_count": 7,
     "metadata": {},
     "output_type": "execute_result"
    }
   ],
   "source": [
    "MAX_LENGTH_CHAR = len(max((list(ngrams(t[0].rsplit('|', 1)[0], bigram_size)) for sent in train for t in sent), key=len))\n",
    "MAX_LENGTH_CHAR"
   ]
  },
  {
   "cell_type": "code",
   "execution_count": 8,
   "metadata": {},
   "outputs": [
    {
     "name": "stdout",
     "output_type": "stream",
     "text": [
      "CPU times: user 123 ms, sys: 8.48 ms, total: 132 ms\n",
      "Wall time: 129 ms\n"
     ]
    }
   ],
   "source": [
    "%%time\n",
    "train_sentences, train_sentence_tags = [], [] \n",
    "for tagged_sentence in train:\n",
    "    sentence, tags = zip(*tagged_sentence)\n",
    "    train_sentences.append(np.array(sentence))\n",
    "    train_sentence_tags.append(np.array(tags))"
   ]
  },
  {
   "cell_type": "markdown",
   "metadata": {},
   "source": [
    "### Encode data"
   ]
  },
  {
   "cell_type": "code",
   "execution_count": 9,
   "metadata": {},
   "outputs": [],
   "source": [
    "words, pos_tags, tags = set([]), set([]), set([])\n",
    " \n",
    "for s in train_sentences:\n",
    "    for w in s:\n",
    "        words.add(w.lower().rsplit('|', 1)[0])\n",
    "        \n",
    "for s in train_sentences:\n",
    "    for w in s:\n",
    "        p = w.rsplit('|', 1)[-1]\n",
    "        pos_tags.add(p)\n",
    "        \n",
    "l = []\n",
    "for w in words:\n",
    "    l += [''.join(bg) for bg in set(list(ngrams(w, bigram_size)))]\n",
    "    if len(w) < bigram_size:\n",
    "        l += [w]\n",
    "bigrams = set(l)\n",
    "\n",
    "for ts in train_sentence_tags:\n",
    "    for t in ts:\n",
    "        tags.add(t)\n",
    "\n",
    "word2index = {w: i + 2 for i, w in enumerate(list(words))}\n",
    "word2index['-OOV-'] = 1\n",
    "word2index['-PAD-'] = 0\n",
    "\n",
    "pos2index = {t: i + 2 for i, t in enumerate(list(pos_tags))}\n",
    "pos2index['-OOV-'] = 1\n",
    "pos2index['-PAD-'] = 0\n",
    " \n",
    "tag2index = {t: i + 1 for i, t in enumerate(list(tags))}\n",
    "tag2index['-PAD-'] = 0\n",
    "\n",
    "char2index = {ch: i + 2 for i, ch in enumerate(list(bigrams))}\n",
    "char2index['-OOV-'] = 1\n",
    "char2index['-PAD-'] = 0\n",
    "char2index[None] = 1"
   ]
  },
  {
   "cell_type": "code",
   "execution_count": 10,
   "metadata": {},
   "outputs": [
    {
     "data": {
      "text/plain": [
       "(17, 18, 7023)"
      ]
     },
     "execution_count": 10,
     "metadata": {},
     "output_type": "execute_result"
    }
   ],
   "source": [
    "len(pos2index), len(tag2index), len(char2index)"
   ]
  },
  {
   "cell_type": "code",
   "execution_count": 11,
   "metadata": {},
   "outputs": [],
   "source": [
    "def encode_sentences(sentences, sentence_tags, max_len=MAX_LENGTH, max_len_char=MAX_LENGTH_CHAR, bigram_size=3):\n",
    "    sentences_X, tags_y = [], []\n",
    "\n",
    "    for s in sentences:\n",
    "        s_int = []\n",
    "        for w in s:\n",
    "            try:\n",
    "                w = w.rsplit('|', 1)\n",
    "                s_int.append(pos2index[w[-1]])\n",
    "            except KeyError:\n",
    "                s_int.append(pos2index['-OOV-'])\n",
    "\n",
    "        sentences_X.append(s_int)\n",
    "\n",
    "    for s in sentence_tags:\n",
    "        tags_y.append([tag2index[t] for t in s])\n",
    "\n",
    "    # chars encoding\n",
    "    chars_X = np.zeros((len(sentences), max_len, max_len_char))\n",
    "    for i, sentence in enumerate(sentences):\n",
    "        for j, word in enumerate(sentence):\n",
    "            word = word.lower().rsplit('|', 1)[0]\n",
    "            if len(word) < bigram_size:\n",
    "                word_ngrams = [word]\n",
    "            else:\n",
    "                word_ngrams = list(ngrams(word, bigram_size))\n",
    "                \n",
    "            for k, bg in enumerate(word_ngrams):\n",
    "                if j < MAX_LENGTH and k < MAX_LENGTH_CHAR:\n",
    "                    chars_X[i, j, k] = char2index.get(''.join(bg), char2index[\"-OOV-\"])\n",
    "    return sentences_X, chars_X, tags_y"
   ]
  },
  {
   "cell_type": "code",
   "execution_count": 12,
   "metadata": {},
   "outputs": [
    {
     "name": "stdout",
     "output_type": "stream",
     "text": [
      "CPU times: user 1.38 s, sys: 64.6 ms, total: 1.45 s\n",
      "Wall time: 1.46 s\n"
     ]
    }
   ],
   "source": [
    "%%time\n",
    "train_sentences_X, train_chars_X, train_tags_y = encode_sentences(train_sentences, train_sentence_tags, bigram_size=bigram_size)"
   ]
  },
  {
   "cell_type": "code",
   "execution_count": 13,
   "metadata": {},
   "outputs": [
    {
     "data": {
      "text/plain": [
       "[3, 4, 14, 10, 16, 10, 5, 3, 14, 4, 6, 3, 7, 3, 14, 13, 5]"
      ]
     },
     "execution_count": 13,
     "metadata": {},
     "output_type": "execute_result"
    }
   ],
   "source": [
    "train_sentences_X[0]"
   ]
  },
  {
   "cell_type": "code",
   "execution_count": 14,
   "metadata": {},
   "outputs": [
    {
     "data": {
      "text/plain": [
       "array([5072., 5200., 2679., 2148., 1408.,  151., 6416., 6479., 3876.,\n",
       "          0.,    0.,    0.,    0.,    0.,    0.,    0.,    0.,    0.,\n",
       "          0.,    0.,    0.,    0.,    0.,    0.,    0.,    0.,    0.,\n",
       "          0.,    0.,    0.,    0.,    0.,    0.,    0.,    0.,    0.,\n",
       "          0.,    0.,    0.,    0.,    0.,    0.,    0.,    0.,    0.,\n",
       "          0.,    0.])"
      ]
     },
     "execution_count": 14,
     "metadata": {},
     "output_type": "execute_result"
    }
   ],
   "source": [
    "train_chars_X[0][0]"
   ]
  },
  {
   "cell_type": "markdown",
   "metadata": {},
   "source": [
    "### Load test data"
   ]
  },
  {
   "cell_type": "code",
   "execution_count": 15,
   "metadata": {},
   "outputs": [],
   "source": [
    "with open(f'{DATASET_PATH}/case_test_pos.pkl', 'rb') as f:\n",
    "    test = pickle.load(f)"
   ]
  },
  {
   "cell_type": "code",
   "execution_count": 16,
   "metadata": {
    "scrolled": true
   },
   "outputs": [
    {
     "data": {
      "text/plain": [
       "[[('Bajul|PROPN', 'Nom'),\n",
       "  ('ei|VERB', 'Unk'),\n",
       "  ('kauan|ADV', 'Unk'),\n",
       "  ('viihdy|VERB', 'Unk'),\n",
       "  ('ammattilaisena|NOUN', 'Ess'),\n",
       "  ('.|PUNCT', 'Unk')],\n",
       " [('mennä|VERB', 'Lat'), ('päivälliselle|NOUN', 'All')],\n",
       " [('Pihassamme|NOUN', 'Ine'),\n",
       "  ('kasvaa|VERB', 'Unk'),\n",
       "  ('koivun|NOUN', 'Gen'),\n",
       "  ('juurella|ADP', 'Unk'),\n",
       "  ('sitkeä|ADJ', 'Nom'),\n",
       "  (',|PUNCT', 'Unk'),\n",
       "  ('ikivihreä|ADJ', 'Nom'),\n",
       "  ('kasvi|NOUN', 'Nom'),\n",
       "  ('.|PUNCT', 'Unk')],\n",
       " [('En|VERB', 'Unk'),\n",
       "  ('oo|VERB', 'Unk'),\n",
       "  ('itte|PRON', 'Nom'),\n",
       "  ('ainakaan|ADV', 'Unk'),\n",
       "  ('vielä|ADV', 'Unk'),\n",
       "  ('harrastanut|VERB', 'Nom'),\n",
       "  ('tota|DET', 'Par'),\n",
       "  ('yöllä|NOUN', 'Ade'),\n",
       "  ('syömistä|NOUN', 'Par'),\n",
       "  ('.|PUNCT', 'Unk')],\n",
       " [('Työttömyyteen|NOUN', 'Ill'),\n",
       "  ('on|VERB', 'Unk'),\n",
       "  ('käytävä|VERB', 'Nom'),\n",
       "  ('käsiksi|ADV', 'Unk'),\n",
       "  ('kaikella|DET', 'Ade'),\n",
       "  ('sillä|DET', 'Ade'),\n",
       "  ('tarmolla|NOUN', 'Ade'),\n",
       "  (',|PUNCT', 'Unk'),\n",
       "  ('joka|PRON', 'Nom'),\n",
       "  ('meistä|DET', 'Ela'),\n",
       "  ('suomalaisista|ADJ', 'Ela'),\n",
       "  ('löytyy|VERB', 'Unk'),\n",
       "  ('.|PUNCT', 'Unk')]]"
      ]
     },
     "execution_count": 16,
     "metadata": {},
     "output_type": "execute_result"
    }
   ],
   "source": [
    "test[:5]"
   ]
  },
  {
   "cell_type": "code",
   "execution_count": 17,
   "metadata": {},
   "outputs": [
    {
     "name": "stdout",
     "output_type": "stream",
     "text": [
      "CPU times: user 21.8 ms, sys: 3.79 ms, total: 25.6 ms\n",
      "Wall time: 25.8 ms\n"
     ]
    }
   ],
   "source": [
    "%%time\n",
    "test_sentences, test_sentence_tags = [], [] \n",
    "for tagged_sentence in test:\n",
    "    sentence, tags = zip(*tagged_sentence)\n",
    "    test_sentences.append(np.array(sentence))\n",
    "    test_sentence_tags.append(np.array(tags))"
   ]
  },
  {
   "cell_type": "code",
   "execution_count": 18,
   "metadata": {},
   "outputs": [
    {
     "name": "stdout",
     "output_type": "stream",
     "text": [
      "CPU times: user 354 ms, sys: 11.9 ms, total: 366 ms\n",
      "Wall time: 369 ms\n"
     ]
    }
   ],
   "source": [
    "%%time\n",
    "test_sentences_X, test_chars_X, test_tags_y = encode_sentences(test_sentences, test_sentence_tags, bigram_size=bigram_size)"
   ]
  },
  {
   "cell_type": "markdown",
   "metadata": {},
   "source": [
    "#### Padding"
   ]
  },
  {
   "cell_type": "code",
   "execution_count": 19,
   "metadata": {},
   "outputs": [],
   "source": [
    "train_sentences_X = pad_sequences(train_sentences_X, maxlen=MAX_LENGTH, padding='post')\n",
    "train_tags_y = pad_sequences(train_tags_y, maxlen=MAX_LENGTH, padding='post')\n",
    "test_sentences_X = pad_sequences(test_sentences_X, maxlen=MAX_LENGTH, padding='post')\n",
    "test_tags_y = pad_sequences(test_tags_y, maxlen=MAX_LENGTH, padding='post')"
   ]
  },
  {
   "cell_type": "code",
   "execution_count": 20,
   "metadata": {},
   "outputs": [
    {
     "data": {
      "text/plain": [
       "((15277, 72), (15277, 72))"
      ]
     },
     "execution_count": 20,
     "metadata": {},
     "output_type": "execute_result"
    }
   ],
   "source": [
    "train_sentences_X.shape, train_tags_y.shape"
   ]
  },
  {
   "cell_type": "code",
   "execution_count": 21,
   "metadata": {},
   "outputs": [
    {
     "data": {
      "text/plain": [
       "((3820, 72), (3820, 72))"
      ]
     },
     "execution_count": 21,
     "metadata": {},
     "output_type": "execute_result"
    }
   ],
   "source": [
    "test_sentences_X.shape, test_tags_y.shape"
   ]
  },
  {
   "cell_type": "markdown",
   "metadata": {},
   "source": [
    "### Define model and evaluation functions"
   ]
  },
  {
   "cell_type": "code",
   "execution_count": 22,
   "metadata": {},
   "outputs": [],
   "source": [
    "from keras import backend as K\n",
    "\n",
    "def recall_m(y_true, y_pred):\n",
    "        true_positives = K.sum(K.round(K.clip(y_true * y_pred, 0, 1)))\n",
    "        possible_positives = K.sum(K.round(K.clip(y_true, 0, 1)))\n",
    "        recall = true_positives / (possible_positives + K.epsilon())\n",
    "        return recall\n",
    "\n",
    "def precision_m(y_true, y_pred):\n",
    "        true_positives = K.sum(K.round(K.clip(y_true * y_pred, 0, 1)))\n",
    "        predicted_positives = K.sum(K.round(K.clip(y_pred, 0, 1)))\n",
    "        precision = true_positives / (predicted_positives + K.epsilon())\n",
    "        return precision\n",
    "\n",
    "def f1_m(y_true, y_pred):\n",
    "    precision = precision_m(y_true, y_pred)\n",
    "    recall = recall_m(y_true, y_pred)\n",
    "    return 2*((precision*recall)/(precision+recall+K.epsilon()))"
   ]
  },
  {
   "cell_type": "code",
   "execution_count": 23,
   "metadata": {},
   "outputs": [],
   "source": [
    "batch_size = 64\n",
    "\n",
    "vocab_size = len(word2index)\n",
    "vocab_char_size = len(char2index)\n",
    "classes = len(tag2index)\n",
    "\n",
    "dropout = 0.2\n",
    "lstm_recurrent_dropout = 0.2"
   ]
  },
  {
   "cell_type": "code",
   "execution_count": 24,
   "metadata": {},
   "outputs": [],
   "source": [
    "## Word Input\n",
    "word_in = Input(shape=(MAX_LENGTH,), name='pos_input')\n",
    "\n",
    "word_embeddings = Embedding(input_dim=vocab_size,\n",
    "                            output_dim=16,\n",
    "                            input_length=MAX_LENGTH,\n",
    "                            mask_zero=False,\n",
    "                            name='pos_embedding')(word_in)\n",
    "word_enc = Bidirectional(LSTM(units=16, return_sequences=True, \n",
    "                dropout=dropout, recurrent_dropout=lstm_recurrent_dropout,\n",
    "                name='pos_encoder'))(word_embeddings)\n",
    "\n",
    "# Character Input\n",
    "char_in = Input(shape=(MAX_LENGTH, MAX_LENGTH_CHAR,), name='char_input')\n",
    "\n",
    "# Character Embedding\n",
    "emb_char = TimeDistributed(Embedding(input_dim=vocab_char_size, output_dim=96, \n",
    "                           input_length=MAX_LENGTH_CHAR, mask_zero=False),\n",
    "                          name='char_embedding')(char_in)\n",
    "# Character Sequence to Vector via BiLSTM\n",
    "char_enc = TimeDistributed(Bidirectional(LSTM(units=96, return_sequences=False, dropout=dropout, \n",
    "                                              recurrent_dropout=lstm_recurrent_dropout),\n",
    "                           name='char_encoder'))(emb_char)\n",
    "\n",
    "# Concatenate All Embedding\n",
    "all_word_embeddings = concatenate([word_enc, char_enc])\n",
    "all_word_embeddings = SpatialDropout1D(0.15)(all_word_embeddings)\n",
    "\n",
    "# Main Model BiLSTM\n",
    "word_feats_enc = Bidirectional(LSTM(units=48, return_sequences=True, \n",
    "                 dropout=dropout, recurrent_dropout=lstm_recurrent_dropout, \n",
    "                 name='main_encoder'))(all_word_embeddings)\n",
    "\n",
    "out = Dense(classes, activation='softmax', name='case_decoder')(word_feats_enc)\n",
    "\n",
    "# Model\n",
    "model = Model([word_in, char_in], out)"
   ]
  },
  {
   "cell_type": "code",
   "execution_count": 25,
   "metadata": {},
   "outputs": [],
   "source": [
    "model.compile(loss='categorical_crossentropy',\n",
    "              optimizer='adam',\n",
    "              metrics=['accuracy', precision_m, recall_m, f1_m])"
   ]
  },
  {
   "cell_type": "code",
   "execution_count": 26,
   "metadata": {},
   "outputs": [
    {
     "name": "stdout",
     "output_type": "stream",
     "text": [
      "Model: \"model_1\"\n",
      "__________________________________________________________________________________________________\n",
      "Layer (type)                    Output Shape         Param #     Connected to                     \n",
      "==================================================================================================\n",
      "pos_input (InputLayer)          (None, 72)           0                                            \n",
      "__________________________________________________________________________________________________\n",
      "char_input (InputLayer)         (None, 72, 47)       0                                            \n",
      "__________________________________________________________________________________________________\n",
      "pos_embedding (Embedding)       (None, 72, 16)       599472      pos_input[0][0]                  \n",
      "__________________________________________________________________________________________________\n",
      "char_embedding (TimeDistributed (None, 72, 47, 96)   674208      char_input[0][0]                 \n",
      "__________________________________________________________________________________________________\n",
      "bidirectional_1 (Bidirectional) (None, 72, 32)       4224        pos_embedding[0][0]              \n",
      "__________________________________________________________________________________________________\n",
      "time_distributed_1 (TimeDistrib (None, 72, 192)      148224      char_embedding[0][0]             \n",
      "__________________________________________________________________________________________________\n",
      "concatenate_1 (Concatenate)     (None, 72, 224)      0           bidirectional_1[0][0]            \n",
      "                                                                 time_distributed_1[0][0]         \n",
      "__________________________________________________________________________________________________\n",
      "spatial_dropout1d_1 (SpatialDro (None, 72, 224)      0           concatenate_1[0][0]              \n",
      "__________________________________________________________________________________________________\n",
      "bidirectional_2 (Bidirectional) (None, 72, 96)       104832      spatial_dropout1d_1[0][0]        \n",
      "__________________________________________________________________________________________________\n",
      "case_decoder (Dense)            (None, 72, 18)       1746        bidirectional_2[0][0]            \n",
      "==================================================================================================\n",
      "Total params: 1,532,706\n",
      "Trainable params: 1,532,706\n",
      "Non-trainable params: 0\n",
      "__________________________________________________________________________________________________\n"
     ]
    }
   ],
   "source": [
    "model.summary()"
   ]
  },
  {
   "cell_type": "markdown",
   "metadata": {},
   "source": [
    "### Fit model"
   ]
  },
  {
   "cell_type": "code",
   "execution_count": 27,
   "metadata": {
    "scrolled": true
   },
   "outputs": [
    {
     "name": "stdout",
     "output_type": "stream",
     "text": [
      "Train on 15277 samples, validate on 3820 samples\n",
      "Epoch 1/10\n",
      "15277/15277 [==============================] - 1035s 68ms/step - loss: 0.2420 - accuracy: 0.9355 - precision_m: 0.9657 - recall_m: 0.9042 - f1_m: 0.9329 - val_loss: 0.1292 - val_accuracy: 0.9576 - val_precision_m: 0.9918 - val_recall_m: 0.9423 - val_f1_m: 0.9664\n",
      "Epoch 2/10\n",
      "15277/15277 [==============================] - 1009s 66ms/step - loss: 0.0932 - accuracy: 0.9706 - precision_m: 0.9921 - recall_m: 0.9572 - f1_m: 0.9744 - val_loss: 0.0582 - val_accuracy: 0.9816 - val_precision_m: 0.9909 - val_recall_m: 0.9740 - val_f1_m: 0.9824\n",
      "Epoch 3/10\n",
      "15277/15277 [==============================] - 1010s 66ms/step - loss: 0.0471 - accuracy: 0.9858 - precision_m: 0.9922 - recall_m: 0.9803 - f1_m: 0.9862 - val_loss: 0.0305 - val_accuracy: 0.9910 - val_precision_m: 0.9943 - val_recall_m: 0.9886 - val_f1_m: 0.9915\n",
      "Epoch 4/10\n",
      "15277/15277 [==============================] - 1004s 66ms/step - loss: 0.0276 - accuracy: 0.9919 - precision_m: 0.9947 - recall_m: 0.9896 - f1_m: 0.9921 - val_loss: 0.0202 - val_accuracy: 0.9938 - val_precision_m: 0.9950 - val_recall_m: 0.9930 - val_f1_m: 0.9940\n",
      "Epoch 5/10\n",
      "15277/15277 [==============================] - 1273s 83ms/step - loss: 0.0192 - accuracy: 0.9943 - precision_m: 0.9956 - recall_m: 0.9932 - f1_m: 0.9944 - val_loss: 0.0157 - val_accuracy: 0.9955 - val_precision_m: 0.9961 - val_recall_m: 0.9951 - val_f1_m: 0.9956\n",
      "Epoch 6/10\n",
      "15277/15277 [==============================] - 1049s 69ms/step - loss: 0.0146 - accuracy: 0.9957 - precision_m: 0.9965 - recall_m: 0.9952 - f1_m: 0.9958 - val_loss: 0.0135 - val_accuracy: 0.9961 - val_precision_m: 0.9965 - val_recall_m: 0.9958 - val_f1_m: 0.9961\n",
      "Epoch 7/10\n",
      "15277/15277 [==============================] - 1002s 66ms/step - loss: 0.0115 - accuracy: 0.9966 - precision_m: 0.9971 - recall_m: 0.9962 - f1_m: 0.9966 - val_loss: 0.0114 - val_accuracy: 0.9968 - val_precision_m: 0.9971 - val_recall_m: 0.9965 - val_f1_m: 0.9968\n",
      "Epoch 8/10\n",
      "15277/15277 [==============================] - 996s 65ms/step - loss: 0.0096 - accuracy: 0.9972 - precision_m: 0.9975 - recall_m: 0.9968 - f1_m: 0.9972 - val_loss: 0.0104 - val_accuracy: 0.9971 - val_precision_m: 0.9973 - val_recall_m: 0.9969 - val_f1_m: 0.9971\n",
      "Epoch 9/10\n",
      "15277/15277 [==============================] - 1005s 66ms/step - loss: 0.0081 - accuracy: 0.9976 - precision_m: 0.9979 - recall_m: 0.9973 - f1_m: 0.9976 - val_loss: 0.0097 - val_accuracy: 0.9973 - val_precision_m: 0.9975 - val_recall_m: 0.9971 - val_f1_m: 0.9973\n",
      "Epoch 10/10\n",
      "15277/15277 [==============================] - 999s 65ms/step - loss: 0.0070 - accuracy: 0.9979 - precision_m: 0.9981 - recall_m: 0.9977 - f1_m: 0.9979 - val_loss: 0.0092 - val_accuracy: 0.9975 - val_precision_m: 0.9977 - val_recall_m: 0.9974 - val_f1_m: 0.9975\n"
     ]
    }
   ],
   "source": [
    "history = model.fit([train_sentences_X, train_chars_X], to_categorical(train_tags_y, len(tag2index)),\n",
    "                    epochs=10, verbose=1,\n",
    "                    validation_data=([test_sentences_X, test_chars_X], to_categorical(test_tags_y, len(tag2index))))"
   ]
  },
  {
   "cell_type": "markdown",
   "metadata": {},
   "source": [
    "### Evaluate train model"
   ]
  },
  {
   "cell_type": "code",
   "execution_count": 28,
   "metadata": {},
   "outputs": [
    {
     "name": "stdout",
     "output_type": "stream",
     "text": [
      "15277/15277 [==============================] - 310s 20ms/step\n"
     ]
    },
    {
     "data": {
      "text/plain": [
       "(0.004186382611016862,\n",
       " 0.9987545013427734,\n",
       " 0.9988819360733032,\n",
       " 0.9986769556999207,\n",
       " 0.9987787008285522)"
      ]
     },
     "execution_count": 28,
     "metadata": {},
     "output_type": "execute_result"
    }
   ],
   "source": [
    "scores, acc, p, r, f = model.evaluate([train_sentences_X, train_chars_X], to_categorical(train_tags_y, len(tag2index)))\n",
    "scores, acc, p, r, f"
   ]
  },
  {
   "cell_type": "markdown",
   "metadata": {},
   "source": [
    "#### Plot scores"
   ]
  },
  {
   "cell_type": "code",
   "execution_count": 29,
   "metadata": {},
   "outputs": [],
   "source": [
    "from matplotlib import pyplot as plt"
   ]
  },
  {
   "cell_type": "code",
   "execution_count": 30,
   "metadata": {},
   "outputs": [
    {
     "data": {
      "image/png": "[encoded data removed]",
      "text/plain": [
       "<Figure size 432x288 with 1 Axes>"
      ]
     },
     "metadata": {},
     "output_type": "display_data"
    }
   ],
   "source": [
    "plt.plot(history.history['accuracy'])\n",
    "plt.plot(history.history['val_accuracy'])\n",
    "plt.title('model accuracy')\n",
    "plt.ylabel('accuracy')\n",
    "plt.xlabel('epoch')\n",
    "plt.legend(['train', 'val'], loc='upper left')\n",
    "plt.show()"
   ]
  },
  {
   "cell_type": "code",
   "execution_count": 31,
   "metadata": {},
   "outputs": [
    {
     "data": {
      "image/png": "[encoded data removed]",
      "text/plain": [
       "<Figure size 432x288 with 1 Axes>"
      ]
     },
     "metadata": {},
     "output_type": "display_data"
    }
   ],
   "source": [
    "plt.plot(history.history['precision_m'])\n",
    "plt.plot(history.history['val_precision_m'])\n",
    "plt.title('model precision')\n",
    "plt.ylabel('precision')\n",
    "plt.xlabel('epoch')\n",
    "plt.legend(['train', 'val'], loc='upper left')\n",
    "plt.show()"
   ]
  },
  {
   "cell_type": "code",
   "execution_count": 32,
   "metadata": {},
   "outputs": [
    {
     "data": {
      "image/png": "[encoded data removed]",
      "text/plain": [
       "<Figure size 432x288 with 1 Axes>"
      ]
     },
     "metadata": {},
     "output_type": "display_data"
    }
   ],
   "source": [
    "plt.plot(history.history['recall_m'])\n",
    "plt.plot(history.history['val_recall_m'])\n",
    "plt.title('model recall')\n",
    "plt.ylabel('recall')\n",
    "plt.xlabel('epoch')\n",
    "plt.legend(['train', 'val'], loc='upper left')\n",
    "plt.show()"
   ]
  },
  {
   "cell_type": "code",
   "execution_count": 33,
   "metadata": {},
   "outputs": [
    {
     "data": {
      "image/png": "[encoded data removed]",
      "text/plain": [
       "<Figure size 432x288 with 1 Axes>"
      ]
     },
     "metadata": {},
     "output_type": "display_data"
    }
   ],
   "source": [
    "plt.plot(history.history['f1_m'])\n",
    "plt.plot(history.history['val_f1_m'])\n",
    "plt.title('model F-score')\n",
    "plt.ylabel('F-score')\n",
    "plt.xlabel('epoch')\n",
    "plt.legend(['train', 'val'], loc='upper left')\n",
    "plt.show()"
   ]
  },
  {
   "cell_type": "code",
   "execution_count": 34,
   "metadata": {},
   "outputs": [
    {
     "data": {
      "image/png": "[encoded data removed]",
      "text/plain": [
       "<Figure size 432x288 with 1 Axes>"
      ]
     },
     "metadata": {},
     "output_type": "display_data"
    }
   ],
   "source": [
    "plt.plot(history.history['loss'])\n",
    "plt.plot(history.history['val_loss'])\n",
    "plt.title('model loss')\n",
    "plt.ylabel('loss')\n",
    "plt.xlabel('epoch')\n",
    "plt.legend(['train', 'val'], loc='upper left')\n",
    "plt.show()"
   ]
  },
  {
   "cell_type": "markdown",
   "metadata": {},
   "source": [
    "### Evaluate test dataset"
   ]
  },
  {
   "cell_type": "code",
   "execution_count": 35,
   "metadata": {},
   "outputs": [
    {
     "name": "stdout",
     "output_type": "stream",
     "text": [
      "3820/3820 [==============================] - 77s 20ms/step\n"
     ]
    },
    {
     "data": {
      "text/plain": [
       "(0.009182124597590944,\n",
       " 0.9974985718727112,\n",
       " 0.997679591178894,\n",
       " 0.9973719716072083,\n",
       " 0.9975256323814392)"
      ]
     },
     "execution_count": 35,
     "metadata": {},
     "output_type": "execute_result"
    }
   ],
   "source": [
    "scores, acc, p, r, f = model.evaluate([test_sentences_X, test_chars_X], to_categorical(test_tags_y, len(tag2index)))\n",
    "scores, acc, p, r, f"
   ]
  },
  {
   "cell_type": "markdown",
   "metadata": {},
   "source": [
    "### Make predictions"
   ]
  },
  {
   "cell_type": "code",
   "execution_count": 36,
   "metadata": {},
   "outputs": [],
   "source": [
    "def logits_to_tokens(sequences, index):\n",
    "    token_sequences = []\n",
    "    for categorical_sequence in sequences:\n",
    "        token_sequences.append([index[cat] for cat in np.argmax(categorical_sequence, axis=1)])\n",
    " \n",
    "    return token_sequences"
   ]
  },
  {
   "cell_type": "code",
   "execution_count": 37,
   "metadata": {},
   "outputs": [],
   "source": [
    "inverted_tag_index = {i: t for t, i in tag2index.items()}"
   ]
  },
  {
   "cell_type": "code",
   "execution_count": 38,
   "metadata": {},
   "outputs": [
    {
     "name": "stdout",
     "output_type": "stream",
     "text": [
      "CPU times: user 4min 24s, sys: 4.72 s, total: 4min 29s\n",
      "Wall time: 1min 16s\n"
     ]
    }
   ],
   "source": [
    "%%time\n",
    "predictions = model.predict([test_sentences_X, test_chars_X])"
   ]
  },
  {
   "cell_type": "code",
   "execution_count": 39,
   "metadata": {},
   "outputs": [
    {
     "name": "stdout",
     "output_type": "stream",
     "text": [
      "CPU times: user 129 ms, sys: 0 ns, total: 129 ms\n",
      "Wall time: 128 ms\n"
     ]
    }
   ],
   "source": [
    "%%time\n",
    "pred_labels = logits_to_tokens(predictions, inverted_tag_index)"
   ]
  },
  {
   "cell_type": "code",
   "execution_count": 40,
   "metadata": {},
   "outputs": [
    {
     "data": {
      "text/plain": [
       "[['Nom',\n",
       "  'Unk',\n",
       "  'Unk',\n",
       "  'Unk',\n",
       "  'Ess',\n",
       "  'Unk',\n",
       "  '-PAD-',\n",
       "  '-PAD-',\n",
       "  '-PAD-',\n",
       "  '-PAD-',\n",
       "  '-PAD-',\n",
       "  '-PAD-',\n",
       "  '-PAD-',\n",
       "  '-PAD-',\n",
       "  '-PAD-',\n",
       "  '-PAD-',\n",
       "  '-PAD-',\n",
       "  '-PAD-',\n",
       "  '-PAD-',\n",
       "  '-PAD-',\n",
       "  '-PAD-',\n",
       "  '-PAD-',\n",
       "  '-PAD-',\n",
       "  '-PAD-',\n",
       "  '-PAD-',\n",
       "  '-PAD-',\n",
       "  '-PAD-',\n",
       "  '-PAD-',\n",
       "  '-PAD-',\n",
       "  '-PAD-',\n",
       "  '-PAD-',\n",
       "  '-PAD-',\n",
       "  '-PAD-',\n",
       "  '-PAD-',\n",
       "  '-PAD-',\n",
       "  '-PAD-',\n",
       "  '-PAD-',\n",
       "  '-PAD-',\n",
       "  '-PAD-',\n",
       "  '-PAD-',\n",
       "  '-PAD-',\n",
       "  '-PAD-',\n",
       "  '-PAD-',\n",
       "  '-PAD-',\n",
       "  '-PAD-',\n",
       "  '-PAD-',\n",
       "  '-PAD-',\n",
       "  '-PAD-',\n",
       "  '-PAD-',\n",
       "  '-PAD-',\n",
       "  '-PAD-',\n",
       "  '-PAD-',\n",
       "  '-PAD-',\n",
       "  '-PAD-',\n",
       "  '-PAD-',\n",
       "  '-PAD-',\n",
       "  '-PAD-',\n",
       "  '-PAD-',\n",
       "  '-PAD-',\n",
       "  '-PAD-',\n",
       "  '-PAD-',\n",
       "  '-PAD-',\n",
       "  '-PAD-',\n",
       "  '-PAD-',\n",
       "  '-PAD-',\n",
       "  '-PAD-',\n",
       "  '-PAD-',\n",
       "  '-PAD-',\n",
       "  '-PAD-',\n",
       "  '-PAD-',\n",
       "  '-PAD-',\n",
       "  '-PAD-'],\n",
       " ['Lat',\n",
       "  'All',\n",
       "  '-PAD-',\n",
       "  '-PAD-',\n",
       "  '-PAD-',\n",
       "  '-PAD-',\n",
       "  '-PAD-',\n",
       "  '-PAD-',\n",
       "  '-PAD-',\n",
       "  '-PAD-',\n",
       "  '-PAD-',\n",
       "  '-PAD-',\n",
       "  '-PAD-',\n",
       "  '-PAD-',\n",
       "  '-PAD-',\n",
       "  '-PAD-',\n",
       "  '-PAD-',\n",
       "  '-PAD-',\n",
       "  '-PAD-',\n",
       "  '-PAD-',\n",
       "  '-PAD-',\n",
       "  '-PAD-',\n",
       "  '-PAD-',\n",
       "  '-PAD-',\n",
       "  '-PAD-',\n",
       "  '-PAD-',\n",
       "  '-PAD-',\n",
       "  '-PAD-',\n",
       "  '-PAD-',\n",
       "  '-PAD-',\n",
       "  '-PAD-',\n",
       "  '-PAD-',\n",
       "  '-PAD-',\n",
       "  '-PAD-',\n",
       "  '-PAD-',\n",
       "  '-PAD-',\n",
       "  '-PAD-',\n",
       "  '-PAD-',\n",
       "  '-PAD-',\n",
       "  '-PAD-',\n",
       "  '-PAD-',\n",
       "  '-PAD-',\n",
       "  '-PAD-',\n",
       "  '-PAD-',\n",
       "  '-PAD-',\n",
       "  '-PAD-',\n",
       "  '-PAD-',\n",
       "  '-PAD-',\n",
       "  '-PAD-',\n",
       "  '-PAD-',\n",
       "  '-PAD-',\n",
       "  '-PAD-',\n",
       "  '-PAD-',\n",
       "  '-PAD-',\n",
       "  '-PAD-',\n",
       "  '-PAD-',\n",
       "  '-PAD-',\n",
       "  '-PAD-',\n",
       "  '-PAD-',\n",
       "  '-PAD-',\n",
       "  '-PAD-',\n",
       "  '-PAD-',\n",
       "  '-PAD-',\n",
       "  '-PAD-',\n",
       "  '-PAD-',\n",
       "  '-PAD-',\n",
       "  '-PAD-',\n",
       "  '-PAD-',\n",
       "  '-PAD-',\n",
       "  '-PAD-',\n",
       "  '-PAD-',\n",
       "  '-PAD-'],\n",
       " ['Ine',\n",
       "  'Unk',\n",
       "  'Gen',\n",
       "  'Unk',\n",
       "  'Par',\n",
       "  'Unk',\n",
       "  'Nom',\n",
       "  'Nom',\n",
       "  'Unk',\n",
       "  '-PAD-',\n",
       "  '-PAD-',\n",
       "  '-PAD-',\n",
       "  '-PAD-',\n",
       "  '-PAD-',\n",
       "  '-PAD-',\n",
       "  '-PAD-',\n",
       "  '-PAD-',\n",
       "  '-PAD-',\n",
       "  '-PAD-',\n",
       "  '-PAD-',\n",
       "  '-PAD-',\n",
       "  '-PAD-',\n",
       "  '-PAD-',\n",
       "  '-PAD-',\n",
       "  '-PAD-',\n",
       "  '-PAD-',\n",
       "  '-PAD-',\n",
       "  '-PAD-',\n",
       "  '-PAD-',\n",
       "  '-PAD-',\n",
       "  '-PAD-',\n",
       "  '-PAD-',\n",
       "  '-PAD-',\n",
       "  '-PAD-',\n",
       "  '-PAD-',\n",
       "  '-PAD-',\n",
       "  '-PAD-',\n",
       "  '-PAD-',\n",
       "  '-PAD-',\n",
       "  '-PAD-',\n",
       "  '-PAD-',\n",
       "  '-PAD-',\n",
       "  '-PAD-',\n",
       "  '-PAD-',\n",
       "  '-PAD-',\n",
       "  '-PAD-',\n",
       "  '-PAD-',\n",
       "  '-PAD-',\n",
       "  '-PAD-',\n",
       "  '-PAD-',\n",
       "  '-PAD-',\n",
       "  '-PAD-',\n",
       "  '-PAD-',\n",
       "  '-PAD-',\n",
       "  '-PAD-',\n",
       "  '-PAD-',\n",
       "  '-PAD-',\n",
       "  '-PAD-',\n",
       "  '-PAD-',\n",
       "  '-PAD-',\n",
       "  '-PAD-',\n",
       "  '-PAD-',\n",
       "  '-PAD-',\n",
       "  '-PAD-',\n",
       "  '-PAD-',\n",
       "  '-PAD-',\n",
       "  '-PAD-',\n",
       "  '-PAD-',\n",
       "  '-PAD-',\n",
       "  '-PAD-',\n",
       "  '-PAD-',\n",
       "  '-PAD-'],\n",
       " ['Unk',\n",
       "  'Unk',\n",
       "  'Nom',\n",
       "  'Unk',\n",
       "  'Unk',\n",
       "  'Nom',\n",
       "  'Par',\n",
       "  'Ade',\n",
       "  'Par',\n",
       "  'Unk',\n",
       "  '-PAD-',\n",
       "  '-PAD-',\n",
       "  '-PAD-',\n",
       "  '-PAD-',\n",
       "  '-PAD-',\n",
       "  '-PAD-',\n",
       "  '-PAD-',\n",
       "  '-PAD-',\n",
       "  '-PAD-',\n",
       "  '-PAD-',\n",
       "  '-PAD-',\n",
       "  '-PAD-',\n",
       "  '-PAD-',\n",
       "  '-PAD-',\n",
       "  '-PAD-',\n",
       "  '-PAD-',\n",
       "  '-PAD-',\n",
       "  '-PAD-',\n",
       "  '-PAD-',\n",
       "  '-PAD-',\n",
       "  '-PAD-',\n",
       "  '-PAD-',\n",
       "  '-PAD-',\n",
       "  '-PAD-',\n",
       "  '-PAD-',\n",
       "  '-PAD-',\n",
       "  '-PAD-',\n",
       "  '-PAD-',\n",
       "  '-PAD-',\n",
       "  '-PAD-',\n",
       "  '-PAD-',\n",
       "  '-PAD-',\n",
       "  '-PAD-',\n",
       "  '-PAD-',\n",
       "  '-PAD-',\n",
       "  '-PAD-',\n",
       "  '-PAD-',\n",
       "  '-PAD-',\n",
       "  '-PAD-',\n",
       "  '-PAD-',\n",
       "  '-PAD-',\n",
       "  '-PAD-',\n",
       "  '-PAD-',\n",
       "  '-PAD-',\n",
       "  '-PAD-',\n",
       "  '-PAD-',\n",
       "  '-PAD-',\n",
       "  '-PAD-',\n",
       "  '-PAD-',\n",
       "  '-PAD-',\n",
       "  '-PAD-',\n",
       "  '-PAD-',\n",
       "  '-PAD-',\n",
       "  '-PAD-',\n",
       "  '-PAD-',\n",
       "  '-PAD-',\n",
       "  '-PAD-',\n",
       "  '-PAD-',\n",
       "  '-PAD-',\n",
       "  '-PAD-',\n",
       "  '-PAD-',\n",
       "  '-PAD-'],\n",
       " ['Ill',\n",
       "  'Unk',\n",
       "  'Nom',\n",
       "  'Unk',\n",
       "  'Ade',\n",
       "  'Ade',\n",
       "  'Ade',\n",
       "  'Unk',\n",
       "  'Nom',\n",
       "  'Ela',\n",
       "  'Ela',\n",
       "  'Unk',\n",
       "  'Unk',\n",
       "  '-PAD-',\n",
       "  '-PAD-',\n",
       "  '-PAD-',\n",
       "  '-PAD-',\n",
       "  '-PAD-',\n",
       "  '-PAD-',\n",
       "  '-PAD-',\n",
       "  '-PAD-',\n",
       "  '-PAD-',\n",
       "  '-PAD-',\n",
       "  '-PAD-',\n",
       "  '-PAD-',\n",
       "  '-PAD-',\n",
       "  '-PAD-',\n",
       "  '-PAD-',\n",
       "  '-PAD-',\n",
       "  '-PAD-',\n",
       "  '-PAD-',\n",
       "  '-PAD-',\n",
       "  '-PAD-',\n",
       "  '-PAD-',\n",
       "  '-PAD-',\n",
       "  '-PAD-',\n",
       "  '-PAD-',\n",
       "  '-PAD-',\n",
       "  '-PAD-',\n",
       "  '-PAD-',\n",
       "  '-PAD-',\n",
       "  '-PAD-',\n",
       "  '-PAD-',\n",
       "  '-PAD-',\n",
       "  '-PAD-',\n",
       "  '-PAD-',\n",
       "  '-PAD-',\n",
       "  '-PAD-',\n",
       "  '-PAD-',\n",
       "  '-PAD-',\n",
       "  '-PAD-',\n",
       "  '-PAD-',\n",
       "  '-PAD-',\n",
       "  '-PAD-',\n",
       "  '-PAD-',\n",
       "  '-PAD-',\n",
       "  '-PAD-',\n",
       "  '-PAD-',\n",
       "  '-PAD-',\n",
       "  '-PAD-',\n",
       "  '-PAD-',\n",
       "  '-PAD-',\n",
       "  '-PAD-',\n",
       "  '-PAD-',\n",
       "  '-PAD-',\n",
       "  '-PAD-',\n",
       "  '-PAD-',\n",
       "  '-PAD-',\n",
       "  '-PAD-',\n",
       "  '-PAD-',\n",
       "  '-PAD-',\n",
       "  '-PAD-']]"
      ]
     },
     "execution_count": 40,
     "metadata": {},
     "output_type": "execute_result"
    }
   ],
   "source": [
    "pred_labels[:5]"
   ]
  },
  {
   "cell_type": "markdown",
   "metadata": {},
   "source": [
    "### Classification report"
   ]
  },
  {
   "cell_type": "code",
   "execution_count": 41,
   "metadata": {},
   "outputs": [],
   "source": [
    "y_true = [inverted_tag_index[t] for l in test_tags_y for t in l]\n",
    "y_pred = list(itertools.chain(*pred_labels))"
   ]
  },
  {
   "cell_type": "code",
   "execution_count": 42,
   "metadata": {},
   "outputs": [
    {
     "name": "stdout",
     "output_type": "stream",
     "text": [
      "              precision    recall  f1-score   support\n",
      "\n",
      "       -PAD-       1.00      1.00      1.00    242650\n",
      "         Abe       0.97      0.86      0.91        42\n",
      "         Abl       0.96      0.99      0.98       189\n",
      "         Acc       0.96      0.96      0.96        25\n",
      "         Ade       0.99      1.00      0.99       649\n",
      "         All       0.99      0.99      0.99       359\n",
      "         Com       0.93      0.72      0.81        18\n",
      "         Ela       0.91      0.98      0.94       703\n",
      "         Ess       0.98      0.98      0.98       333\n",
      "         Gen       0.95      0.96      0.95      2795\n",
      "         Ill       0.95      0.94      0.95       817\n",
      "         Ine       1.00      0.99      0.99       842\n",
      "         Ins       0.76      0.58      0.66        67\n",
      "         Lat       0.93      0.94      0.94       649\n",
      "         Nom       0.97      0.96      0.97      6089\n",
      "         Par       0.96      0.96      0.96      2428\n",
      "         Tra       0.97      0.98      0.97       214\n",
      "         Unk       1.00      1.00      1.00     16171\n",
      "\n",
      "   micro avg       1.00      1.00      1.00    275040\n",
      "   macro avg       0.95      0.93      0.94    275040\n",
      "weighted avg       1.00      1.00      1.00    275040\n",
      "\n"
     ]
    }
   ],
   "source": [
    "print(classification_report(y_true, y_pred))"
   ]
  },
  {
   "cell_type": "markdown",
   "metadata": {},
   "source": [
    "### Build confusion matrices"
   ]
  },
  {
   "cell_type": "code",
   "execution_count": 43,
   "metadata": {},
   "outputs": [],
   "source": [
    "labels = list(sorted(set(y_true)))\n",
    "array = confusion_matrix(y_true=y_true, y_pred=y_pred)"
   ]
  },
  {
   "cell_type": "markdown",
   "metadata": {},
   "source": [
    "Precision"
   ]
  },
  {
   "cell_type": "code",
   "execution_count": 44,
   "metadata": {},
   "outputs": [
    {
     "data": {
      "image/png": "[encoded data removed]",
      "text/plain": [
       "<Figure size 720x720 with 2 Axes>"
      ]
     },
     "metadata": {},
     "output_type": "display_data"
    }
   ],
   "source": [
    "df_cm_1 = pd.DataFrame(array / array.sum(axis=0), index = labels, columns = labels)\n",
    "\n",
    "plt.figure(figsize = (10,10))\n",
    "sns.heatmap(df_cm_1, annot=True, cmap=plt.cm.Blues)\n",
    "plt.show() "
   ]
  },
  {
   "cell_type": "markdown",
   "metadata": {},
   "source": [
    "Recall"
   ]
  },
  {
   "cell_type": "code",
   "execution_count": 45,
   "metadata": {},
   "outputs": [
    {
     "data": {
      "image/png": "[encoded data removed]",
      "text/plain": [
       "<Figure size 720x720 with 2 Axes>"
      ]
     },
     "metadata": {},
     "output_type": "display_data"
    }
   ],
   "source": [
    "df_cm_2 = pd.DataFrame(array / array.sum(axis=1), index = labels, columns = labels)\n",
    "\n",
    "plt.figure(figsize = (10,10))\n",
    "sns.heatmap(df_cm_2, annot=True, cmap=plt.cm.Blues)\n",
    "plt.show()"
   ]
  }
 ],
 "metadata": {
  "kernelspec": {
   "display_name": "Python 3",
   "language": "python",
   "name": "python3"
  },
  "language_info": {
   "codemirror_mode": {
    "name": "ipython",
    "version": 3
   },
   "file_extension": ".py",
   "mimetype": "text/x-python",
   "name": "python",
   "nbconvert_exporter": "python",
   "pygments_lexer": "ipython3",
   "version": "3.6.9"
  }
 },
 "nbformat": 4,
 "nbformat_minor": 2
}
